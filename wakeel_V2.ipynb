{
  "nbformat": 4,
  "nbformat_minor": 0,
  "metadata": {
    "colab": {
      "provenance": [],
      "gpuType": "T4"
    },
    "kernelspec": {
      "name": "python3",
      "display_name": "Python 3"
    },
    "language_info": {
      "name": "python"
    },
    "accelerator": "GPU"
  },
  "cells": [
    {
      "cell_type": "code",
      "execution_count": 2,
      "metadata": {
        "colab": {
          "base_uri": "https://localhost:8080/"
        },
        "id": "G3XHhzK9di68",
        "outputId": "26438d06-2602-4059-a6b4-8e1abf77aeec"
      },
      "outputs": [
        {
          "output_type": "stream",
          "name": "stdout",
          "text": [
            "Requirement already satisfied: transformers in /usr/local/lib/python3.11/dist-packages (4.51.3)\n",
            "Collecting faiss-cpu\n",
            "  Downloading faiss_cpu-1.11.0-cp311-cp311-manylinux_2_28_x86_64.whl.metadata (4.8 kB)\n",
            "Collecting datasets\n",
            "  Downloading datasets-3.6.0-py3-none-any.whl.metadata (19 kB)\n",
            "Requirement already satisfied: filelock in /usr/local/lib/python3.11/dist-packages (from transformers) (3.18.0)\n",
            "Requirement already satisfied: huggingface-hub<1.0,>=0.30.0 in /usr/local/lib/python3.11/dist-packages (from transformers) (0.30.2)\n",
            "Requirement already satisfied: numpy>=1.17 in /usr/local/lib/python3.11/dist-packages (from transformers) (2.0.2)\n",
            "Requirement already satisfied: packaging>=20.0 in /usr/local/lib/python3.11/dist-packages (from transformers) (24.2)\n",
            "Requirement already satisfied: pyyaml>=5.1 in /usr/local/lib/python3.11/dist-packages (from transformers) (6.0.2)\n",
            "Requirement already satisfied: regex!=2019.12.17 in /usr/local/lib/python3.11/dist-packages (from transformers) (2024.11.6)\n",
            "Requirement already satisfied: requests in /usr/local/lib/python3.11/dist-packages (from transformers) (2.32.3)\n",
            "Requirement already satisfied: tokenizers<0.22,>=0.21 in /usr/local/lib/python3.11/dist-packages (from transformers) (0.21.1)\n",
            "Requirement already satisfied: safetensors>=0.4.3 in /usr/local/lib/python3.11/dist-packages (from transformers) (0.5.3)\n",
            "Requirement already satisfied: tqdm>=4.27 in /usr/local/lib/python3.11/dist-packages (from transformers) (4.67.1)\n",
            "Requirement already satisfied: pyarrow>=15.0.0 in /usr/local/lib/python3.11/dist-packages (from datasets) (18.1.0)\n",
            "Collecting dill<0.3.9,>=0.3.0 (from datasets)\n",
            "  Downloading dill-0.3.8-py3-none-any.whl.metadata (10 kB)\n",
            "Requirement already satisfied: pandas in /usr/local/lib/python3.11/dist-packages (from datasets) (2.2.2)\n",
            "Collecting xxhash (from datasets)\n",
            "  Downloading xxhash-3.5.0-cp311-cp311-manylinux_2_17_x86_64.manylinux2014_x86_64.whl.metadata (12 kB)\n",
            "Collecting multiprocess<0.70.17 (from datasets)\n",
            "  Downloading multiprocess-0.70.16-py311-none-any.whl.metadata (7.2 kB)\n",
            "Collecting fsspec<=2025.3.0,>=2023.1.0 (from fsspec[http]<=2025.3.0,>=2023.1.0->datasets)\n",
            "  Downloading fsspec-2025.3.0-py3-none-any.whl.metadata (11 kB)\n",
            "Requirement already satisfied: aiohttp!=4.0.0a0,!=4.0.0a1 in /usr/local/lib/python3.11/dist-packages (from fsspec[http]<=2025.3.0,>=2023.1.0->datasets) (3.11.15)\n",
            "Requirement already satisfied: typing-extensions>=3.7.4.3 in /usr/local/lib/python3.11/dist-packages (from huggingface-hub<1.0,>=0.30.0->transformers) (4.13.2)\n",
            "Requirement already satisfied: charset-normalizer<4,>=2 in /usr/local/lib/python3.11/dist-packages (from requests->transformers) (3.4.1)\n",
            "Requirement already satisfied: idna<4,>=2.5 in /usr/local/lib/python3.11/dist-packages (from requests->transformers) (3.10)\n",
            "Requirement already satisfied: urllib3<3,>=1.21.1 in /usr/local/lib/python3.11/dist-packages (from requests->transformers) (2.4.0)\n",
            "Requirement already satisfied: certifi>=2017.4.17 in /usr/local/lib/python3.11/dist-packages (from requests->transformers) (2025.4.26)\n",
            "Requirement already satisfied: python-dateutil>=2.8.2 in /usr/local/lib/python3.11/dist-packages (from pandas->datasets) (2.9.0.post0)\n",
            "Requirement already satisfied: pytz>=2020.1 in /usr/local/lib/python3.11/dist-packages (from pandas->datasets) (2025.2)\n",
            "Requirement already satisfied: tzdata>=2022.7 in /usr/local/lib/python3.11/dist-packages (from pandas->datasets) (2025.2)\n",
            "Requirement already satisfied: aiohappyeyeballs>=2.3.0 in /usr/local/lib/python3.11/dist-packages (from aiohttp!=4.0.0a0,!=4.0.0a1->fsspec[http]<=2025.3.0,>=2023.1.0->datasets) (2.6.1)\n",
            "Requirement already satisfied: aiosignal>=1.1.2 in /usr/local/lib/python3.11/dist-packages (from aiohttp!=4.0.0a0,!=4.0.0a1->fsspec[http]<=2025.3.0,>=2023.1.0->datasets) (1.3.2)\n",
            "Requirement already satisfied: attrs>=17.3.0 in /usr/local/lib/python3.11/dist-packages (from aiohttp!=4.0.0a0,!=4.0.0a1->fsspec[http]<=2025.3.0,>=2023.1.0->datasets) (25.3.0)\n",
            "Requirement already satisfied: frozenlist>=1.1.1 in /usr/local/lib/python3.11/dist-packages (from aiohttp!=4.0.0a0,!=4.0.0a1->fsspec[http]<=2025.3.0,>=2023.1.0->datasets) (1.6.0)\n",
            "Requirement already satisfied: multidict<7.0,>=4.5 in /usr/local/lib/python3.11/dist-packages (from aiohttp!=4.0.0a0,!=4.0.0a1->fsspec[http]<=2025.3.0,>=2023.1.0->datasets) (6.4.3)\n",
            "Requirement already satisfied: propcache>=0.2.0 in /usr/local/lib/python3.11/dist-packages (from aiohttp!=4.0.0a0,!=4.0.0a1->fsspec[http]<=2025.3.0,>=2023.1.0->datasets) (0.3.1)\n",
            "Requirement already satisfied: yarl<2.0,>=1.17.0 in /usr/local/lib/python3.11/dist-packages (from aiohttp!=4.0.0a0,!=4.0.0a1->fsspec[http]<=2025.3.0,>=2023.1.0->datasets) (1.20.0)\n",
            "Requirement already satisfied: six>=1.5 in /usr/local/lib/python3.11/dist-packages (from python-dateutil>=2.8.2->pandas->datasets) (1.17.0)\n",
            "Downloading faiss_cpu-1.11.0-cp311-cp311-manylinux_2_28_x86_64.whl (31.3 MB)\n",
            "\u001b[2K   \u001b[90m━━━━━━━━━━━━━━━━━━━━━━━━━━━━━━━━━━━━━━━━\u001b[0m \u001b[32m31.3/31.3 MB\u001b[0m \u001b[31m74.8 MB/s\u001b[0m eta \u001b[36m0:00:00\u001b[0m\n",
            "\u001b[?25hDownloading datasets-3.6.0-py3-none-any.whl (491 kB)\n",
            "\u001b[2K   \u001b[90m━━━━━━━━━━━━━━━━━━━━━━━━━━━━━━━━━━━━━━━━\u001b[0m \u001b[32m491.5/491.5 kB\u001b[0m \u001b[31m42.5 MB/s\u001b[0m eta \u001b[36m0:00:00\u001b[0m\n",
            "\u001b[?25hDownloading dill-0.3.8-py3-none-any.whl (116 kB)\n",
            "\u001b[2K   \u001b[90m━━━━━━━━━━━━━━━━━━━━━━━━━━━━━━━━━━━━━━━━\u001b[0m \u001b[32m116.3/116.3 kB\u001b[0m \u001b[31m12.7 MB/s\u001b[0m eta \u001b[36m0:00:00\u001b[0m\n",
            "\u001b[?25hDownloading fsspec-2025.3.0-py3-none-any.whl (193 kB)\n",
            "\u001b[2K   \u001b[90m━━━━━━━━━━━━━━━━━━━━━━━━━━━━━━━━━━━━━━━━\u001b[0m \u001b[32m193.6/193.6 kB\u001b[0m \u001b[31m19.4 MB/s\u001b[0m eta \u001b[36m0:00:00\u001b[0m\n",
            "\u001b[?25hDownloading multiprocess-0.70.16-py311-none-any.whl (143 kB)\n",
            "\u001b[2K   \u001b[90m━━━━━━━━━━━━━━━━━━━━━━━━━━━━━━━━━━━━━━━━\u001b[0m \u001b[32m143.5/143.5 kB\u001b[0m \u001b[31m16.6 MB/s\u001b[0m eta \u001b[36m0:00:00\u001b[0m\n",
            "\u001b[?25hDownloading xxhash-3.5.0-cp311-cp311-manylinux_2_17_x86_64.manylinux2014_x86_64.whl (194 kB)\n",
            "\u001b[2K   \u001b[90m━━━━━━━━━━━━━━━━━━━━━━━━━━━━━━━━━━━━━━━━\u001b[0m \u001b[32m194.8/194.8 kB\u001b[0m \u001b[31m21.5 MB/s\u001b[0m eta \u001b[36m0:00:00\u001b[0m\n",
            "\u001b[?25hInstalling collected packages: xxhash, fsspec, faiss-cpu, dill, multiprocess, datasets\n",
            "  Attempting uninstall: fsspec\n",
            "    Found existing installation: fsspec 2025.3.2\n",
            "    Uninstalling fsspec-2025.3.2:\n",
            "      Successfully uninstalled fsspec-2025.3.2\n",
            "\u001b[31mERROR: pip's dependency resolver does not currently take into account all the packages that are installed. This behaviour is the source of the following dependency conflicts.\n",
            "torch 2.6.0+cu124 requires nvidia-cublas-cu12==12.4.5.8; platform_system == \"Linux\" and platform_machine == \"x86_64\", but you have nvidia-cublas-cu12 12.5.3.2 which is incompatible.\n",
            "torch 2.6.0+cu124 requires nvidia-cuda-cupti-cu12==12.4.127; platform_system == \"Linux\" and platform_machine == \"x86_64\", but you have nvidia-cuda-cupti-cu12 12.5.82 which is incompatible.\n",
            "torch 2.6.0+cu124 requires nvidia-cuda-nvrtc-cu12==12.4.127; platform_system == \"Linux\" and platform_machine == \"x86_64\", but you have nvidia-cuda-nvrtc-cu12 12.5.82 which is incompatible.\n",
            "torch 2.6.0+cu124 requires nvidia-cuda-runtime-cu12==12.4.127; platform_system == \"Linux\" and platform_machine == \"x86_64\", but you have nvidia-cuda-runtime-cu12 12.5.82 which is incompatible.\n",
            "torch 2.6.0+cu124 requires nvidia-cudnn-cu12==9.1.0.70; platform_system == \"Linux\" and platform_machine == \"x86_64\", but you have nvidia-cudnn-cu12 9.3.0.75 which is incompatible.\n",
            "torch 2.6.0+cu124 requires nvidia-cufft-cu12==11.2.1.3; platform_system == \"Linux\" and platform_machine == \"x86_64\", but you have nvidia-cufft-cu12 11.2.3.61 which is incompatible.\n",
            "torch 2.6.0+cu124 requires nvidia-curand-cu12==10.3.5.147; platform_system == \"Linux\" and platform_machine == \"x86_64\", but you have nvidia-curand-cu12 10.3.6.82 which is incompatible.\n",
            "torch 2.6.0+cu124 requires nvidia-cusolver-cu12==11.6.1.9; platform_system == \"Linux\" and platform_machine == \"x86_64\", but you have nvidia-cusolver-cu12 11.6.3.83 which is incompatible.\n",
            "torch 2.6.0+cu124 requires nvidia-cusparse-cu12==12.3.1.170; platform_system == \"Linux\" and platform_machine == \"x86_64\", but you have nvidia-cusparse-cu12 12.5.1.3 which is incompatible.\n",
            "torch 2.6.0+cu124 requires nvidia-nvjitlink-cu12==12.4.127; platform_system == \"Linux\" and platform_machine == \"x86_64\", but you have nvidia-nvjitlink-cu12 12.5.82 which is incompatible.\n",
            "gcsfs 2025.3.2 requires fsspec==2025.3.2, but you have fsspec 2025.3.0 which is incompatible.\u001b[0m\u001b[31m\n",
            "\u001b[0mSuccessfully installed datasets-3.6.0 dill-0.3.8 faiss-cpu-1.11.0 fsspec-2025.3.0 multiprocess-0.70.16 xxhash-3.5.0\n"
          ]
        }
      ],
      "source": [
        "!pip install transformers faiss-cpu datasets"
      ]
    },
    {
      "cell_type": "code",
      "source": [
        "import os\n",
        "import faiss\n",
        "import numpy as np\n",
        "from flask import Flask, request, jsonify\n",
        "from datasets import load_dataset\n",
        "from sklearn.feature_extraction.text import TfidfVectorizer\n",
        "from transformers import GPT2Tokenizer, GPT2LMHeadModel\n",
        "from groq import Groq\n"
      ],
      "metadata": {
        "id": "fLQEvhZglCdu"
      },
      "execution_count": 27,
      "outputs": []
    },
    {
      "cell_type": "code",
      "source": [
        "# --- Load Dataset ---\n",
        "print(\"Loading Indian Law dataset...\")\n",
        "dataset = load_dataset(\"kshitij230/Indian-Law\")\n",
        "\n",
        "# --- Prepare Text Corpus ---\n",
        "texts = [f\"{item['Instruction']} {item['Response']}\" for item in dataset['train']]\n",
        "\n",
        "# --- TF-IDF Vectorization ---\n",
        "print(\"Building vector index...\")\n",
        "vectorizer = TfidfVectorizer()\n",
        "tfidf_matrix = vectorizer.fit_transform(texts)\n",
        "tfidf_array = tfidf_matrix.toarray()"
      ],
      "metadata": {
        "colab": {
          "base_uri": "https://localhost:8080/"
        },
        "id": "VOpp_aV3lFp2",
        "outputId": "466a1cce-844e-4411-c375-2f3ce6d71ada"
      },
      "execution_count": 28,
      "outputs": [
        {
          "output_type": "stream",
          "name": "stdout",
          "text": [
            "Loading Indian Law dataset...\n",
            "Building vector index...\n"
          ]
        }
      ]
    },
    {
      "cell_type": "code",
      "source": [
        "# --- FAISS Index ---\n",
        "dimension = tfidf_array.shape[1]\n",
        "index = faiss.IndexFlatL2(dimension)\n",
        "index.add(tfidf_array)"
      ],
      "metadata": {
        "id": "WSfZHNV1lI9m"
      },
      "execution_count": 29,
      "outputs": []
    },
    {
      "cell_type": "code",
      "source": [
        "client = Groq(api_key='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')"
      ],
      "metadata": {
        "id": "UExxU7BWlLvW"
      },
      "execution_count": 31,
      "outputs": []
    },
    {
      "cell_type": "code",
      "source": [
        "def retrieve_documents(query, top_k=5):\n",
        "    query_vec = vectorizer.transform([query]).toarray()\n",
        "    distances, indices = index.search(query_vec, top_k)\n",
        "    return [texts[i] for i in indices[0]]\n",
        "\n",
        "# --- Query Classifier (inner/outer) ---\n",
        "def classify_query(query):\n",
        "    try:\n",
        "        response = client.chat.completions.create(\n",
        "            model=\"llama-3.3-70b-versatile\",\n",
        "            messages=[\n",
        "                {\n",
        "                    \"role\": \"system\",\n",
        "                    \"content\": \"Classify this query. Return 'inner' if it's a legal question under Indian law or law case based question where legal actions is neede, else return 'outer'.\"\n",
        "                },\n",
        "                {\n",
        "                    \"role\": \"user\",\n",
        "                    \"content\": query\n",
        "                }\n",
        "            ],\n",
        "            max_tokens=5\n",
        "        )\n",
        "        return response.choices[0].message.content.strip().lower()\n",
        "    except Exception as e:\n",
        "        print(\"Classification error:\", e)\n",
        "        return \"outer\"\n",
        "\n",
        "# --- Greeting Bot (outer) ---\n",
        "def greeting_bot(query):\n",
        "    try:\n",
        "        response = client.chat.completions.create(\n",
        "            model=\"llama-3.3-70b-versatile\",\n",
        "            messages=[\n",
        "                {\"role\": \"system\", \"content\": \"Respond like a polite Indian legal assistant. Handle greetings, small talk, or user emotions.\"},\n",
        "                {\"role\": \"user\", \"content\": query}\n",
        "            ],\n",
        "            max_tokens=100\n",
        "        )\n",
        "        return response.choices[0].message.content.strip()\n",
        "    except Exception as e:\n",
        "        return f\"Error: {e}\"\n",
        "\n",
        "# --- RAG with Groq (inner) ---\n",
        "def generate_legal_response(query, context):\n",
        "    try:\n",
        "        response = client.chat.completions.create(\n",
        "            model=\"llama-3.3-70b-versatile\",\n",
        "            messages=[\n",
        "                {\n",
        "                    \"role\": \"system\",\n",
        "                    \"content\": \"You are a legal assistant specializing in Indian law. Use context to generate a helpful answer with relevant laws or articles. Don't go beyond Indian law. give answer in points and in structures way\"\n",
        "                },\n",
        "                {\n",
        "                    \"role\": \"user\",\n",
        "                    \"content\": f\"Query: {query}\\n\\nContext:\\n{context}\"\n",
        "                }\n",
        "            ],\n",
        "            max_tokens=500\n",
        "        )\n",
        "        return response.choices[0].message.content.strip()\n",
        "    except Exception as e:\n",
        "        return f\"Error: {e}\"\n",
        "\n",
        "# --- Final RAG Pipeline ---\n",
        "def complete_query(query):\n",
        "    classification = classify_query(query)\n",
        "    print(\"Classification:\", classification)\n",
        "\n",
        "    if classification == 'outer':\n",
        "        return greeting_bot(query)\n",
        "\n",
        "    # Otherwise, legal (inner)\n",
        "    context = \"\\n\".join(retrieve_documents(query))\n",
        "    return generate_legal_response(query, context)\n",
        "\n",
        "def rag_with_groq(query):\n",
        "    context = \"\\n\".join(retrieve_documents(query))\n",
        "    return generate_legal_response(query, context)\n"
      ],
      "metadata": {
        "id": "6AQwx7A9lauE"
      },
      "execution_count": 41,
      "outputs": []
    },
    {
      "cell_type": "code",
      "source": [
        "def colab_chat():\n",
        "    print(\"👨‍⚖️ Wakeel Sahab (Legal RAG Bot) is ready! Type 'q' to quit.\\n\")\n",
        "    while True:\n",
        "        query = input(\"Ok tell me what happened: \").strip()\n",
        "\n",
        "        if query.lower() == 'q':\n",
        "            print(\"👋 Exiting... Thank you!\")\n",
        "            break\n",
        "\n",
        "        if \".god\" in query.lower():\n",
        "            print(\"🔍 Key '.god' detected — Forcing full RAG pipeline.\")\n",
        "            context = \"\\n\".join(retrieve_documents(query))\n",
        "            r= retrieve_documents(query)\n",
        "            print(\"rag fetched data is :\",r)\n",
        "            response = generate_legal_response(query, context)\n",
        "            print(\"Mr. Wakeel Sahab:\\n\", response)\n",
        "            print(\"-\" * 50)\n",
        "            continue\n",
        "\n",
        "        classification = classify_query(query).strip().lower()\n",
        "        print(\"Classification:\", classification)\n",
        "\n",
        "        if classification == 'outer':\n",
        "            response = greeting_bot(query)\n",
        "        else:\n",
        "            context = \"\\n\".join(retrieve_documents(query))\n",
        "            response = response = rag_with_groq(query)\n",
        "\n",
        "\n",
        "        print(\"Mr. Wakeel Sahab:\\n\", response)\n",
        "        print(\"-\" * 50)\n",
        "\n",
        "# Call this to start the chat in Colab\n",
        "colab_chat()\n"
      ],
      "metadata": {
        "colab": {
          "base_uri": "https://localhost:8080/"
        },
        "id": "3vZkAl1Ilfx9",
        "outputId": "5646f56f-c507-4f5b-ffe6-b6bd83ee8aa1"
      },
      "execution_count": 45,
      "outputs": [
        {
          "output_type": "stream",
          "name": "stdout",
          "text": [
            "👨‍⚖️ Wakeel Sahab (Legal RAG Bot) is ready! Type 'q' to quit.\n",
            "\n",
            "Ok tell me what happened: hi\n",
            "Classification: outer\n",
            "Mr. Wakeel Sahab:\n",
            " Namaste. Hello. It's nice to meet you. How are you doing today? Is there something I can help you with, or would you like to chat for a bit?\n",
            "--------------------------------------------------\n",
            "Ok tell me what happened: my wife cheated on me by sleeping with another man what can i do such that i wont have to give allimony in my divorce\n",
            "Classification: inner\n",
            "Mr. Wakeel Sahab:\n",
            " To address your query regarding divorce and alimony under Indian law, here are the relevant points:\n",
            "\n",
            "**Regarding Adultery and Divorce:**\n",
            "\n",
            "1. **Section 497 of the Indian Penal Code (IPC)**: This section defines adultery as an offense where someone has sexual intercourse with a person they know or have reason to believe is the wife of another man, without the consent or connivance of that man. However, the wife is not punishable as an abettor in such cases.\n",
            "2. **Grounds for Divorce**: Under Section 13 of the Hindu Marriage Act, 1955, or Section 27 of the Special Marriage Act, 1954, adultery can be a ground for divorce.\n",
            "3. **Proof of Adultery**: To prove adultery, you would need to provide evidence, such as witness statements, emails, messages, or other communication records that prove your wife's involvement with another man.\n",
            "\n",
            "**Regarding Alimony:**\n",
            "\n",
            "1. **Alimony under Indian Law**: Alimony, also known as maintenance, is governed by Section 24 of the Hindu Marriage Act, 1955 (for Hindus), Section 37 of the Special Marriage Act, 1954 (for couples married under this act), and Section 125 of the Code of Criminal Procedure, 1973 (for all).\n",
            "2. **Factors Affecting Alimony**: The court considers factors such as the husband's and wife's income, expenses, liabilities, and standard of living when determining alimony. \n",
            "3. **Perquisites and Income**: As mentioned in your context, perquisites such as reimbursement of expenses on grocery and children's education are considered part of your income.\n",
            "\n",
            "**Tax Implications and Their Relevance to Alimony:**\n",
            "\n",
            "1. **Taxable Income**: Your taxable income includes your salary and other income, minus deductions and exemptions. Charitable donations, under Section 80G, can provide deductions, but they don't directly affect alimony calculations.\n",
            "2. **Pension and Taxation**: When receiving a pension, the bank issues the Form-16 or pension statement. However, this is more relevant to income tax calculations than alimony.\n",
            "3. **Losses from House Property**: While losses from house property can be set off against salary income for TDS purposes (up to Rs. 2 lakh), this may not directly impact alimony calculations.\n",
            "\n",
            "**Strategy to Minimize Alimony:**\n",
            "\n",
            "1. ** Disclosure of Income**: Ensure you disclose\n",
            "--------------------------------------------------\n",
            "Ok tell me what happened: my wife cheated on me by sleeping with another man what can i do such that i wont have to give allimony in my divorce  .god\n",
            "🔍 Key '.god' detected — Forcing full RAG pipeline.\n",
            "rag fetched data is : ['My employer reimburses to me all my expenses on grocery and children’s education. Would these be considered as my income? \\u200b\\u200b\\u200bYes, these are in the nature of perquisites and should be valued as per the rules prescribed in this behalf.\\u200b\\u200b', 'Explain Section 497. Section 497 covers the offense of adultery. Anyone who has sexual intercourse with a person they know or have reason to believe is the wife of another man, without the consent or connivance of that man, is guilty of adultery. The punishment can include imprisonment for up to five years, or a fine, or both. The wife is not punishable as an abettor in such cases.', 'Most of my income is given away in charity and I am left with just enough money to meet my personal requirements. What will be considered as my income? \\u200b\\u200b\\u200b\\u200b\\u200b\\u200b\\u200b\\u200b\\u200b\\u200bWhat is done after the income is earned by you will not give you tax exemption. However, contribution to approved institutions will give you the benefit of deduction from taxable income under section 80G\\u200b subject to limits specified therein.', 'If I receive my pension through a bank who will issue Form-16 or pension statement to me- the bank or my former employer? \\u200b\\u200b\\u200b\\u200bThe bank.\\u200b', 'My income from let out house property is negative. Can I ask my employer to consider this loss against my salary income while computing the TDS on my salary? \\u200b\\u200b\\u200bYes but only to the extent of Rs. 2 lakh, however, losses other than losses under the head ‘Income from house property’ cannot be set-off while determining the TDS from salary.\\u200b\\u200b']\n",
            "Mr. Wakeel Sahab:\n",
            " To address your query regarding divorce and alimony in the context of Indian law, here are some key points to consider:\n",
            "\n",
            "### Adultery and Its Impact on Divorce and Alimony\n",
            "\n",
            "1. **Grounds for Divorce**: Adultery is a recognized ground for divorce under the Indian law, specifically mentioned in the Hindu Marriage Act, 1955 (for Hindus), the Special Marriage Act, 1954 (for marriages solemnized under this Act), and other personal laws applicable to different communities.\n",
            "2. **Section 497 of IPC**: This section previously dealt with adultery, making it a criminal offense punishable with imprisonment or fine, or both. However, the Supreme Court of India decriminalized adultery in 2018 by striking down Section 497 of the Indian Penal Code, stating that it was unconstitutional. Despite this, adultery remains a civil wrong and a ground for divorce.\n",
            "3. **Impact on Alimony**: The fact that your spouse cheated on you can be considered by the court while deciding on alimony. The court takes into account various factors, including the conduct of the parties, to determine the amount of alimony.\n",
            "4. **Factors Affecting Alimony**: \n",
            "   - **Financial Status**: Your financial capability and income are critical factors.\n",
            "   - **Spouse's Earning Capacity**: The court considers whether your spouse is capable of maintaining themselves or not.\n",
            "   - **Conduct of the Parties**: Evidence of adultery or other misconduct can impact the decision on alimony.\n",
            "\n",
            "### Regarding Income and Expenses\n",
            "\n",
            "1. **Grocery and Children’s Education Reimbursement**: These are considered perquisites and are valued as per prescribed rules, which may affect your income calculation for alimony purposes.\n",
            "2. **Charitable Donations**: While personal expenses and charitable donations do not directly affect your income for tax purposes, contributions to approved institutions can offer deductions under Section 80G of the Income Tax Act, subject to specific limits.\n",
            "3. **Pension and Form-16**: If you receive a pension, the bank issuing the pension will provide the Form-16 or pension statement.\n",
            "4. **Loss from Let Out House Property**: You can claim a loss of up to Rs. 2 lakh against your salary income for TDS purposes, which might influence your net income available for alimony.\n",
            "\n",
            "### Steps to Consider\n",
            "\n",
            "1. **Consult a Lawyer**: Given the complexities of divorce and alimony laws, it's advisable to consult with a family law attorney who\n",
            "--------------------------------------------------\n",
            "Ok tell me what happened: q\n",
            "👋 Exiting... Thank you!\n"
          ]
        }
      ]
    },
    {
      "cell_type": "code",
      "source": [
        "print(\"\"\"\n",
        "                      ___.   .__                         __\n",
        "  ___________    _____\\_ |__ |  |______________    _____/  |______\n",
        " /  ___/\\__  \\  /     \\| __ \\|  |  \\_  __ \\__  \\  /    \\   __\\__  \\\n",
        " \\___ \\  / __ \\|  Y Y  \\ \\_\\ \\   Y  \\  | \\// __ \\|   |  \\  |  / __ \\_\n",
        "/____  >(____  /__|_|  /___  /___|  /__|  (____  /___|  /__| (____  /\n",
        "     \\/      \\/      \\/    \\/     \\/           \\/     \\/          \\/ \"\"\")\n",
        "\n"
      ],
      "metadata": {
        "colab": {
          "base_uri": "https://localhost:8080/"
        },
        "id": "G1NtbPrZfbLt",
        "outputId": "e90fda96-8ca4-4fb3-ef02-0a1ff8b5b48f"
      },
      "execution_count": 23,
      "outputs": [
        {
          "output_type": "stream",
          "name": "stdout",
          "text": [
            "\n",
            "                      ___.   .__                         __\n",
            "  ___________    _____\\_ |__ |  |______________    _____/  |______\n",
            " /  ___/\\__  \\  /     \\| __ \\|  |  \\_  __ \\__  \\  /    \\   __\\__   \\___ \\  / __ \\|  Y Y  \\ \\_\\ \\   Y  \\  | \\// __ \\|   |  \\  |  / __ \\_\n",
            "/____  >(____  /__|_|  /___  /___|  /__|  (____  /___|  /__| (____  /\n",
            "     \\/      \\/      \\/    \\/     \\/           \\/     \\/          \\/ \n"
          ]
        }
      ]
    },
    {
      "cell_type": "code",
      "source": [],
      "metadata": {
        "id": "n75nFZtge6iH"
      },
      "execution_count": 23,
      "outputs": []
    },
    {
      "cell_type": "code",
      "source": [
        "\n",
        "# my wife cheated on me by sleeping with another man what can i do such that i wont have to give allimony in my divorce\n",
        "\n"
      ],
      "metadata": {
        "id": "yFTamRGcfbGA"
      },
      "execution_count": 46,
      "outputs": []
    },
    {
      "cell_type": "code",
      "source": [],
      "metadata": {
        "id": "LuX30fVMfbDU"
      },
      "execution_count": null,
      "outputs": []
    }
  ]
}